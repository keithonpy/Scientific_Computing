{
 "cells": [
  {
   "cell_type": "markdown",
   "id": "6692a7e5",
   "metadata": {},
   "source": [
    "# Radioactive Decay\n",
    "We will solve numerically the equation for radioactive decay of isotope A to isotope B and compare the numerical result to its analytical counterpart. We will use Euler's method.\n",
    "\n",
    "As a second step we will generalize the solver to deal with three elements, where isotope A decays to isotope B and isotope B decays to isotope C. "
   ]
  },
  {
   "cell_type": "code",
   "execution_count": 15,
   "id": "dc797059",
   "metadata": {},
   "outputs": [],
   "source": [
    "# Import some libraries from python and set some defaults\n",
    "import numpy as np\n",
    "import matplotlib.pyplot as plt\n",
    "from matplotlib import rc\n",
    "import matplotlib.image as mpimg\n",
    "import sys\n",
    "import os\n",
    "import time\n",
    "sys.path.append(os.getcwd())\n",
    "# from scipy.interpolate import CubicSpline\n",
    "import pickle\n",
    "import copy\n",
    "plt.rcParams.update({'font.size': 17})\n",
    "params = {'axes.labelsize': 16, 'axes.titlesize': 16}\n",
    "plt.rcParams.update(params)\n",
    "rc('animation', html='html5')\n"
   ]
  },
  {
   "cell_type": "code",
   "execution_count": 18,
   "id": "16203e6d",
   "metadata": {},
   "outputs": [
    {
     "name": "stdout",
     "output_type": "stream",
     "text": [
      "DEq_Solver already exist\n",
      "Deq_Solver imported\n"
     ]
    }
   ],
   "source": [
    "# get the base file\n",
    "import requests\n",
    "from pathlib import Path\n",
    "if Path(\"DEq_Solver.py\").is_file():\n",
    "    print(\"DEq_Solver already exist\")\n",
    "else:\n",
    "    print(\"Downloading the DEq_solver\")\n",
    "    request = requests.get(\"https://raw.githubusercontent.com/keithonpy/Scientific_Computing/main/Base/DEq_Solver.py\")\n",
    "    with open(\"DEq_Solver.py\", \"wb\") as f:\n",
    "        f.write(request.content)\n",
    "print(\"Deq_Solver imported\")\n",
    "from DEq_Solver import DEq_Solver"
   ]
  },
  {
   "cell_type": "markdown",
   "id": "4a989c3d",
   "metadata": {},
   "source": [
    "## Euler's method\n",
    "\n",
    "Euler's method for solving the first order DE\n",
    "\n",
    "\n",
    "$$\\frac{{\\rm d}x}{{\\rm d}t} = f(x,t)$$ is\n",
    "\n",
    "\n",
    "\n",
    "$$x^{n+1} = x^{n} + f(x^n,t^n)\\,\\Delta t$$.\n",
    "\n",
    "We begin by implementing a routine, ``makeStep``, that implements this time integration, and test it in the special case where\n",
    "$f(x,t)$ is a constant.\n"
   ]
  },
  {
   "cell_type": "markdown",
   "id": "8adce07d",
   "metadata": {},
   "source": [
    "This is where we define the Euler solver. The class Euler Solver below is derived from the more general DEq_Solver class (see DEq_Solver.py in the same directory). This means that the resulting EulerSolver class features all the methods defined in DEq_Solver as well as the additional EulerSolver methods.\n",
    "\n",
    "Implement the `makeStep(self)` function. Within this function you have access to \n",
    "\n",
    "- the current coordinates array as ``self.x``\n",
    "- the current time as ``self.t``\n",
    "- the derivative $dx/dt$ as ``self.kernel.dx_dt(self.x,self.t)``\n",
    "- the timestep as ``self.delta_t``\n",
    "\n",
    "\n",
    "\n",
    "the function ``makeStep`` has to update ``self.x`` and ``self.t`` using the Euler method for first order DE."
   ]
  },
  {
   "cell_type": "code",
   "execution_count": 19,
   "id": "5fffb037",
   "metadata": {},
   "outputs": [],
   "source": [
    "class EulerSolver(DEq_Solver):\n",
    "    def __init__(self, kernel):\n",
    "        self.kernel  = kernel\n",
    "    def makeStep(self):\n",
    "        ### update the position self.x, given dx_dt=self.kernel.dx_dt(self.x, self.t) and the timestep, self.delta_t\n",
    "        ### and the timestep\n",
    "        self.x +=  self.kernel.dx_dt(self.x, self.t) * self.delta_t\n",
    "        self.t += self.delta_t"
   ]
  },
  {
   "cell_type": "markdown",
   "id": "e953eb58",
   "metadata": {},
   "source": [
    "Two testing cases for the `makeStep()` routine"
   ]
  },
  {
   "cell_type": "code",
   "execution_count": 20,
   "id": "f56796fc",
   "metadata": {},
   "outputs": [],
   "source": [
    "class ConstantSpeedKernel:\n",
    "    def dx_dt(x,t):\n",
    "        return 2.3\n",
    "x0=np.array([0.0])\n",
    "t0=0\n",
    "t1=10\n",
    "delta_t=0.1\n",
    "d=EulerSolver(ConstantSpeedKernel)\n",
    "\n",
    "d.initialise(x0,t0,t1,delta_t)\n",
    "\n",
    "# test 20 steps\n",
    "for i in range(20):\n",
    "    d.makeStep()\n",
    "assert np.isclose(d.x,np.array([ 4.6]))"
   ]
  },
  {
   "cell_type": "code",
   "execution_count": 21,
   "id": "d8114f32",
   "metadata": {},
   "outputs": [],
   "source": [
    "class testKernel:\n",
    "    def dx_dt(x,t):\n",
    "        return sum(x)*np.ones_like(x)\n",
    "    \n",
    "d=EulerSolver(testKernel)\n",
    "x0=np.array([1.0,2.0,3.0])\n",
    "t0=0\n",
    "t1=10\n",
    "delta_t=0.1\n",
    "d.initialise(x0,t0,t1,delta_t)\n",
    "\n",
    "for i in range(10):\n",
    "    d.makeStep()\n",
    "\n",
    "assert np.isclose(d.x,np.array([ 26.57169837,  27.57169837,  28.57169837])).all()"
   ]
  },
  {
   "cell_type": "markdown",
   "id": "32a413fc",
   "metadata": {},
   "source": [
    "## Radioactive decay\n",
    "\n",
    "We use the ``EulerSolver`` routine to calculate the radioactive decay of isotope A. \n",
    "The mathematical model describing the radioactive decay of A to B is \n",
    "\n",
    "$$  \\frac{{\\rm d}N_A}{{\\rm d}t} = -\\frac{N_A}{\\tau} $$\n",
    "\n",
    "We will use the solver above but we now need to provide the kernel for this \n",
    "specific case -- that is we have to provide the function $f$ in the \"canonical form\"\n",
    "\n",
    "$$  \\frac{{\\rm d}x_i}{{\\rm d}t} = f_i(x_i,t)$$\n",
    "\n",
    "\n",
    "The method `dx_dt(self,x,t)` needs to be modified. \n",
    " \n",
    "In this case we know the analytical solution so we can compare our numerical result with the analytical formula that you need to implement in ``analytical``\n",
    "\n",
    "In addition, in the ``__init__`` routine the half-life given by `hlife` needs to be converted into the time constant `tau`. \n",
    "\n",
    "All other input, plotting of results, etc. is already implemented in the following cells."
   ]
  },
  {
   "cell_type": "code",
   "execution_count": 22,
   "id": "f375be29",
   "metadata": {},
   "outputs": [],
   "source": [
    "class Radioactive:\n",
    "    def __init__(self,hlife):        \n",
    "        # set self.tau, given the half-life, hlife = tau * ln(2)\n",
    "        self.tau = hlife / np.log(2)\n",
    "\n",
    "    def dx_dt(self,x,t):\n",
    "        # return dx/dt, given x, t, and tau\n",
    "        return - x/ self.tau\n",
    "        \n",
    "    def analytical(self,x0,t):\n",
    "        # return the analytical solution for decay, given x0, t, and tau\n",
    "        return x0 * np.exp(-t/self.tau)\n",
    "\n",
    "    def relative_error(self,test,t0,t1):\n",
    "        res = []\n",
    "        for t,x in test:\n",
    "            if len(res)==0:\n",
    "                x0 = x\n",
    "            res.append( (t, x/self.analytical(x0,t-t0)-1) )\n",
    "        return res"
   ]
  },
  {
   "cell_type": "markdown",
   "id": "a8f60aee",
   "metadata": {},
   "source": [
    "Test cases for the radioactive decay"
   ]
  },
  {
   "cell_type": "code",
   "execution_count": null,
   "id": "5b1044f3",
   "metadata": {},
   "outputs": [],
   "source": []
  }
 ],
 "metadata": {
  "kernelspec": {
   "display_name": "Python 3 (ipykernel)",
   "language": "python",
   "name": "python3"
  },
  "language_info": {
   "codemirror_mode": {
    "name": "ipython",
    "version": 3
   },
   "file_extension": ".py",
   "mimetype": "text/x-python",
   "name": "python",
   "nbconvert_exporter": "python",
   "pygments_lexer": "ipython3",
   "version": "3.10.11"
  }
 },
 "nbformat": 4,
 "nbformat_minor": 5
}
