{
 "cells": [
  {
   "cell_type": "markdown",
   "id": "adbfdf45",
   "metadata": {},
   "source": [
    "# Projectile motion"
   ]
  },
  {
   "cell_type": "code",
   "execution_count": 1,
   "id": "24eedc7c",
   "metadata": {},
   "outputs": [],
   "source": [
    "# Import some libraries from python and set some defaults\n",
    "%matplotlib inline\n",
    "import numpy as np\n",
    "import matplotlib.pyplot as plt\n",
    "from matplotlib import rc\n",
    "import matplotlib.image as mpimg\n",
    "import sys\n",
    "import os\n",
    "import time\n",
    "sys.path.append(os.getcwd())\n",
    "# from scipy.interpolate import CubicSpline\n",
    "import pickle\n",
    "import copy\n",
    "plt.rcParams.update({'font.size': 17})\n",
    "params = {'axes.labelsize': 16, 'axes.titlesize': 16}\n",
    "plt.rcParams.update(params)\n",
    "rc('animation', html='html5')"
   ]
  },
  {
   "cell_type": "code",
   "execution_count": 2,
   "id": "2d19a2dc",
   "metadata": {},
   "outputs": [
    {
     "name": "stdout",
     "output_type": "stream",
     "text": [
      "DEq_Solver already exist\n",
      "Deq_Solver imported\n"
     ]
    }
   ],
   "source": [
    "# get the base file\n",
    "import requests\n",
    "from pathlib import Path\n",
    "if Path(\"DEq_Solver.py\").is_file():\n",
    "    print(\"DEq_Solver already exist\")\n",
    "else:\n",
    "    print(\"Downloading the DEq_solver\")\n",
    "    request = requests.get(\"https://raw.githubusercontent.com/keithonpy/Scientific_Computing/main/Base/DEq_Solver.py\")\n",
    "    with open(\"DEq_Solver.py\", \"wb\") as f:\n",
    "        f.write(request.content)\n",
    "print(\"Deq_Solver imported\")\n",
    "from DEq_Solver import DEq_Solver"
   ]
  },
  {
   "cell_type": "markdown",
   "id": "2020d8db",
   "metadata": {},
   "source": [
    "Implement the second and fourth order Runge-Kutta method in the cell below. You have access to \n",
    "- the current coordinates array as ``self.x``\n",
    "- the current time as ``self.t``\n",
    "- the derivative $dx/dt$ as ``self.kernel.dx_dt(self.x,self.t)``\n",
    "- the timestep $\\Delta t$ as ``self.delta_t``.\n",
    "\n",
    "Note that both classes below are derived from the DEq_Solver class which is defined in DEq_Solver.py (same directory). They will thus feature all methods defined in DEq_Solver as well as the methods defined for the individual derived classes.\n"
   ]
  },
  {
   "cell_type": "markdown",
   "id": "fc4eb06c",
   "metadata": {},
   "source": [
    "**2nd order Runge-Kutta method**\n",
    "\n",
    "Remeber in Radioactive decay notebook, $dx/dt = f(x, t)$, the 2nd order Runge-Kuuta method improve the Euler's method:\n",
    "$$\n",
    "x' = x + f(x, t)\\frac{\\Delta t}{2} \\\\\n",
    "x(t + \\Delta t) = x(t) + f(x', t') \\Delta t \\\\\n",
    "x^{n+1} = x^{n} + f(x^{n} + \\frac{\\Delta t}{2} f(x^{n}, t^{n}), t^{n}+\\frac{\\Delta t}{2}) \\Delta t\n",
    "$$"
   ]
  },
  {
   "cell_type": "markdown",
   "id": "9504ca86",
   "metadata": {},
   "source": [
    "**4th order Runge-Kutta method**\n",
    "Further improvement of 2nd order Runge-Kutta method by taking more points\n",
    "$$\n",
    "x(t + \\Delta t) = x(t) + \\frac{\\Delta t}{6} [f(x_{1}', t_{1}') + 2f(x_{2}',t_{2}')+ 2f(x_{3}', t_{3}')+f(x_{4}', t_{4}')]\n",
    "$$\n",
    "\n",
    "where\n",
    "$$\n",
    "x_{1}' = x \\text{   &   } t_{1}' = t \n",
    "$$\n",
    "$$\n",
    "x_{2}' = x + f(x_{1}', t_{1}') \\text{   &   } t_{2}' = t + \\frac{\\Delta t}{2} \\\\\n",
    "$$\n",
    "$$\n",
    "x_{3}' = x + f(x_{2}', t_{2}') \\text{   &   } t_{3}' = t + \\frac{\\Delta t}{2} \\\\\n",
    "$$\n",
    "$$\n",
    "x_{4}' = x + f(x_{3}', t_{3}') \\text{   &   } t_{4} = t + \\Delta t\n",
    "$$\n"
   ]
  },
  {
   "cell_type": "code",
   "execution_count": 3,
   "id": "b1197737",
   "metadata": {},
   "outputs": [],
   "source": [
    "class RK2Solver(DEq_Solver):\n",
    "    def __init__(self,kernel):\n",
    "        self.kernel  = kernel\n",
    "    def makeStep(self):\n",
    "        # implement the method for performing a step according to the second-order Runge-Kutta algorithm\n",
    "        # You have access to\n",
    "        # self.t: current time\n",
    "        # self.delta_t: the timestep\n",
    "        # self.x: state of the system at time t\n",
    "        # self.kernel.dx_dt(x, t): the derivative, dx/dt, at time t\n",
    "        # input: none\n",
    "        # output: none\n",
    "        # the routine should update x and t\n",
    "        # YOUR CODE HERE\n",
    "        # inner function\n",
    "        x_pi = self.x + self.kernel.dx_dt(self.x, self.t)* self.delta_t / 2\n",
    "        t_pi = self.t + self.delta_t / 2\n",
    "        # outer function\n",
    "        self.x += self.kernel.dx_dt(x_pi, t_pi)*self.delta_t \n",
    "        self.t += self.delta_t\n",
    "        \n",
    "class RK4Solver(DEq_Solver):\n",
    "    def __init__(self,kernel):\n",
    "        self.kernel  = kernel\n",
    "    def makeStep(self):\n",
    "        # implement the method for performing a step according to the fourth-order Runge-Kutta algorithm\n",
    "        # You have access to\n",
    "        # self.t: current time\n",
    "        # self.delta_t: the timestep\n",
    "        # self.x: state of the system at time t\n",
    "        # self.kernel.dx_dt(x, t): the derivative, dx/dt, at time t\n",
    "        # input: none\n",
    "        # output: none\n",
    "        # the routine should update x and t\n",
    "        # YOUR CODE HERE\n",
    "        x1 = self.x\n",
    "        t1 = self.t\n",
    "        x2 = self.x + self.kernel.dx_dt(x1, t1)*self.delta_t /2\n",
    "        t2 = self.t + self.delta_t /2\n",
    "        x3 = self.x + self.kernel.dx_dt(x2, t2)*self.delta_t/2\n",
    "        t3 = self.t + self.delta_t /2\n",
    "        x4 = self.x + self.kernel.dx_dt(x3, t3)*self.delta_t\n",
    "        t4 = self.t + self.delta_t\n",
    "        \n",
    "        self.x += self.delta_t / 6 * (self.kernel.dx_dt(x1,t1)\n",
    "                                      + 2*self.kernel.dx_dt(x2, t2) \n",
    "                                      + 2*self.kernel.dx_dt(x3, t3)\n",
    "                                      + self.kernel.dx_dt(x4, t4))\n",
    "        self.t += self.delta_t"
   ]
  },
  {
   "cell_type": "code",
   "execution_count": 4,
   "id": "afd82376",
   "metadata": {},
   "outputs": [],
   "source": [
    "class testKernel:\n",
    "    def dx_dt(x,t):\n",
    "        return 2.0*t+x\n",
    "\n",
    "solver=RK2Solver(testKernel)\n",
    "x0=np.array([0.0])\n",
    "solver.initialise(x0,0,1,0.1)\n",
    "for i in range(5):\n",
    "    solver.makeStep()\n",
    "assert np.isclose(solver.x[0],0.2948935)"
   ]
  },
  {
   "cell_type": "code",
   "execution_count": 5,
   "id": "0fb9756c",
   "metadata": {},
   "outputs": [],
   "source": [
    "class testKernel:\n",
    "    def dx_dt(x,t):\n",
    "        return 2.0*t+x[1]-3.0*x[0]\n",
    "\n",
    "solver=RK4Solver(testKernel)\n",
    "x0=np.array([1.0,0.2])\n",
    "solver.initialise(x0,0,1,0.1)\n",
    "for i in range(5):\n",
    "    solver.makeStep()\n",
    "assert np.isclose(solver.x,np.array([0.29898195, -0.50101805])).all()"
   ]
  },
  {
   "cell_type": "markdown",
   "id": "95b37e36",
   "metadata": {},
   "source": [
    "In projectile motion, we often want to compute the projectile's range  -- that is the distance it travels horizontally before it hits the ground (assuming Earth is flat!). To do so, we interpolate the trajectory between the two final steps (one above, and one *below* ground level) to determine the range more accurately. The function in the cell below does so by implementing **linear interpolation**.\n",
    "\n",
    "Interpolate the value of $f(x)$ given *left*=$(x0,y0)$ and *right*=$(x1,y1)$ anchor points (where *left* is the last step \n",
    "with $y>0$, and *right* is the first step where $y<0$. $y$ is of course the height above the ground.)\n"
   ]
  },
  {
   "cell_type": "code",
   "execution_count": 6,
   "id": "f47e916f",
   "metadata": {},
   "outputs": [],
   "source": [
    "def interpolate(x,left,right):\n",
    "    # Implement linear interpolation\n",
    "    # input: left:    point with Cartesian coordinates (x0, y0) = left\n",
    "    #        right:   point with Cartesian coordinates (x1, y1) = right\n",
    "    #        x:       x-coordinate of a point\n",
    "    # output: y\n",
    "    #     such that the point with Cartesian coordinates (x, y) lies on the straight line\n",
    "    #     that passes through the points (x0, y0) and (x1, y1)\n",
    "    x0, y0 = left\n",
    "    x1, y1 = right\n",
    "    # YOUR CODE HERE\n",
    "    \n",
    "    slope = (y1-y0) / (x1-x0)\n",
    "    intercept = (x1*y0 - x0*y1) / (x1-x0)\n",
    "    return slope*x+intercept"
   ]
  },
  {
   "cell_type": "markdown",
   "id": "1a4510ba",
   "metadata": {},
   "source": [
    "Below cell tests the implementation of linear interpolation"
   ]
  },
  {
   "cell_type": "code",
   "execution_count": 7,
   "id": "43f990fa",
   "metadata": {},
   "outputs": [],
   "source": [
    "left=(0.4,4.5)\n",
    "right=(0.6,7.78)\n",
    "assert np.isclose(interpolate(0.45,left,right),5.32)"
   ]
  },
  {
   "cell_type": "markdown",
   "id": "6bcb3a0c",
   "metadata": {},
   "source": [
    "A second order differential equation (here, describing the trajectory of a projectile) can be re-written as two coupled, first order equations. Since we have two, second-order DEs (one for horizontal motion, one for vertical motion), we will have 4 coupled first order equations for ballistic motion in two dimensions.\n",
    "\n",
    "We implement this by using the array ``x = np.array([s,h,vs,vh])``, where ``s`` and ``vs`` are horizontal distance and horizontal velocity, and ``h`` and ``vh`` are height and vertical velocity, respectively.\n",
    "\n",
    "We will use the linear interpolation function to determine the range of the projectile by interpolating the last two steps of the solver to height $h = 0$.\n",
    "\n",
    "Implement the kernel ``dx_dt`` in the class below and also complete the method for drag force (a.k.a. air resistance) as a function of velocity ${\\bf v}$, \n",
    "\n",
    "${\\bf F}_{\\rm drag}(h) = -B_{2,\\rm drag}(h)\\,v^2\\frac{\\bf v}{v}$\n",
    "\n",
    "Here ${\\bf v}$ is the velocity, with Cartesian components $(vs,vh)$, and $v$ is the *speed* (magnitude of ${\\bf v}$),\n",
    "$v=\\left(vs^2+vh^2\\right)^{1/2}$.\n",
    "\n",
    "Implement 3 different air models for the drag coefficient as a function of height, $h$:\n",
    "\n",
    " - constant: $B_{2,  \\rm drag}=1$\n",
    " \n",
    " - isothermal: $B_{2,\\rm drag}(h)=\\exp(-h/10^4{\\rm m})$\n",
    " \n",
    " - adiabatic: \n",
    "     - $B_{2,\\rm drag}(h)=0$ for $h> (300./0.0065){\\rm m}$\n",
    "     \n",
    "     - $B_{2,\\rm drag}(h) = (1-0.0065*h/ (300{\\rm m}))^{2.5}$ for $h\\le (300./0.0065){\\rm m}$\n",
    "             \n",
    "Assume the projectile's mass, is $m=1$ kg. In this expression, the factors 300 and 0.0065 apply to motion in the Earth's atmosphere.\n"
   ]
  },
  {
   "cell_type": "code",
   "execution_count": null,
   "id": "1c1b5458",
   "metadata": {},
   "outputs": [],
   "source": [
    "class Cannonball:\n",
    "    def __init__(self,B_m,airmodel='const'):\n",
    "        \"\"\"Initialize a cannonball object with drag coefficient B/m\n",
    "        and an optional air density model\"\"\"\n",
    "        self.B_m = float(B_m)\n",
    "        self.airmodel = airmodel\n",
    "        \n",
    "    def correctionFactor(self,height):\n",
    "        # Implement the calculation of the drag coefficient, B_(2, drag)\n",
    "        #   as a function of height\n",
    "        # input: the height, h, in meters\n",
    "        # returns: B_(2, drag)\n",
    "        # As an example: constant airmodel\n",
    "        if self.airmodel == 'const':  \n",
    "            return 1.0\n",
    "        elif self.airmodel == 'isothermal': \n",
    "        # YOUR CODE HERE\n",
    "            return np.exp(-height/10**4)\n",
    "        elif self.airmodel == 'adiabatic':  \n",
    "        # YOUR CODE HERE\n",
    "            \n",
    "        else:\n",
    "            raise Exception('Unknown air model',self.airmodel)\n",
    "\n",
    "    def dx_dt(self,x,t):\n",
    "        # implement the rate of change, dx/dt, including gravity and drag\n",
    "        # input: t: current ime\n",
    "        #        x: the location of the cannon ball at time t\n",
    "        #          where x[0] is the horizontal position\n",
    "        #                x[1] is the vertical position (height)\n",
    "        #                x[2] is the horizontal velocity\n",
    "        #                x[3] is the vertical velocity\n",
    "        # return: dx/dt\n",
    "        # YOUR CODE HERE\n",
    "\n",
    "\n",
    "\n",
    "\n",
    "def cannon_range(solver):\n",
    "    # Calculate the range of the shot, by interpolating\n",
    "    # between the last two points in the solver history for which\n",
    "    # the penultimate step has height h>0, and the last step has h<0.\n",
    "    # Use linear interpolation to compute the range, i.e. where h=0\n",
    "    # input:   the solver\n",
    "    # returns: the value of the horizontal position along the trajectory where the height, h=0\n",
    "    # Solution:\n",
    "    # extract the (x,y) coordinates of all the steps from the solver\n",
    "    xs, ys, _, _ = solver.coordinateSteps()\n",
    "\n",
    "    # now interpolate linearly between the last two\n",
    "    # YOUR CODE HERE"
   ]
  }
 ],
 "metadata": {
  "kernelspec": {
   "display_name": "Python 3 (ipykernel)",
   "language": "python",
   "name": "python3"
  },
  "language_info": {
   "codemirror_mode": {
    "name": "ipython",
    "version": 3
   },
   "file_extension": ".py",
   "mimetype": "text/x-python",
   "name": "python",
   "nbconvert_exporter": "python",
   "pygments_lexer": "ipython3",
   "version": "3.10.13"
  }
 },
 "nbformat": 4,
 "nbformat_minor": 5
}
