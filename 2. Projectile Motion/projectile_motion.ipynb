{
 "cells": [
  {
   "cell_type": "markdown",
   "id": "adbfdf45",
   "metadata": {},
   "source": [
    "# Projectile motion"
   ]
  },
  {
   "cell_type": "code",
   "execution_count": 2,
   "id": "24eedc7c",
   "metadata": {},
   "outputs": [],
   "source": [
    "# Import some libraries from python and set some defaults\n",
    "%matplotlib inline\n",
    "import numpy as np\n",
    "import matplotlib.pyplot as plt\n",
    "from matplotlib import rc\n",
    "import matplotlib.image as mpimg\n",
    "import sys\n",
    "import os\n",
    "import time\n",
    "sys.path.append(os.getcwd())\n",
    "# from scipy.interpolate import CubicSpline\n",
    "import pickle\n",
    "import copy\n",
    "plt.rcParams.update({'font.size': 17})\n",
    "params = {'axes.labelsize': 16, 'axes.titlesize': 16}\n",
    "plt.rcParams.update(params)\n",
    "rc('animation', html='html5')"
   ]
  },
  {
   "cell_type": "code",
   "execution_count": 3,
   "id": "2d19a2dc",
   "metadata": {},
   "outputs": [
    {
     "name": "stdout",
     "output_type": "stream",
     "text": [
      "Downloading the DEq_solver\n",
      "Deq_Solver imported\n"
     ]
    }
   ],
   "source": [
    "# get the base file\n",
    "import requests\n",
    "from pathlib import Path\n",
    "if Path(\"DEq_Solver.py\").is_file():\n",
    "    print(\"DEq_Solver already exist\")\n",
    "else:\n",
    "    print(\"Downloading the DEq_solver\")\n",
    "    request = requests.get(\"https://raw.githubusercontent.com/keithonpy/Scientific_Computing/main/Base/DEq_Solver.py\")\n",
    "    with open(\"DEq_Solver.py\", \"wb\") as f:\n",
    "        f.write(request.content)\n",
    "print(\"Deq_Solver imported\")\n",
    "from DEq_Solver import DEq_Solver"
   ]
  },
  {
   "cell_type": "markdown",
   "id": "2020d8db",
   "metadata": {},
   "source": [
    "Implement the second and fourth order Runge-Kutta method in the cell below. You have access to \n",
    "- the current coordinates array as ``self.x``\n",
    "- the current time as ``self.t``\n",
    "- the derivative $dx/dt$ as ``self.kernel.dx_dt(self.x,self.t)``\n",
    "- the timestep $\\Delta t$ as ``self.delta_t``.\n",
    "\n",
    "Note that both classes below are derived from the DEq_Solver class which is defined in DEq_Solver.py (same directory). They will thus feature all methods defined in DEq_Solver as well as the methods defined for the individual derived classes.\n"
   ]
  },
  {
   "cell_type": "markdown",
   "id": "fc4eb06c",
   "metadata": {},
   "source": [
    "**2nd order Runge-Kutta method**\n",
    "\n",
    "Remeber in Radioactive decay notebook, $dx/dt = f(x, t)$, the 2nd order Runge-Kuuta method improve the Euler's method:\n",
    "$$\n",
    "x' = x + f(x, t)\\frac{\\Delta t}{2} \\\\\n",
    "x(t + \\Delta t) = x(t) + f(x', t') \\Delta t \\\\\n",
    "x^{n+1} = x^{n} + f(x^{n} + \\frac{\\Delta t}{2} f(x^{n}, t^{n}), t^{n}+\\frac{\\Delta t}{2}) \\Delta t\n",
    "$$"
   ]
  },
  {
   "cell_type": "markdown",
   "id": "9504ca86",
   "metadata": {},
   "source": [
    "**4th order Runge-Kutta method**\n",
    "Further improvement of 2nd order Runge-Kutta method by taking more points\n",
    "$$\n",
    "x(t + \\Delta t) = x(t) + \\frac{\\Delta t}{6} [f(x_{1}', t_{1}') + 2f(x_{2}',t_{2}')+ 2f(x_{3}', t_{3}')+f(x_{4}', t_{4}')]\n",
    "$$\n",
    "\n",
    "where\n",
    "$$\n",
    "x_{1}' = x \\text{   &   } t_{1}' = t \n",
    "$$\n",
    "$$\n",
    "x_{2}' = x + f(x_{1}', t_{1}') \\text{   &   } t_{2}' = t + \\frac{\\Delta t}{2} \\\\\n",
    "$$\n",
    "$$\n",
    "x_{3}' = x + f(x_{2}', t_{2}') \\text{   &   } t_{3}' = t + \\frac{\\Delta t}{2} \\\\\n",
    "$$\n",
    "$$\n",
    "x_{4}' = x + f(x_{3}', t_{3}') \\text{   &   } t_{4} = t + \\Delta t\n",
    "$$\n"
   ]
  },
  {
   "cell_type": "code",
   "execution_count": 21,
   "id": "b1197737",
   "metadata": {},
   "outputs": [],
   "source": [
    "class RK2Solver(DEq_Solver):\n",
    "    def __init__(self,kernel):\n",
    "        self.kernel  = kernel\n",
    "    def makeStep(self):\n",
    "        # implement the method for performing a step according to the second-order Runge-Kutta algorithm\n",
    "        # You have access to\n",
    "        # self.t: current time\n",
    "        # self.delta_t: the timestep\n",
    "        # self.x: state of the system at time t\n",
    "        # self.kernel.dx_dt(x, t): the derivative, dx/dt, at time t\n",
    "        # input: none\n",
    "        # output: none\n",
    "        # the routine should update x and t\n",
    "        # YOUR CODE HERE\n",
    "        # inner function\n",
    "        x_pi = self.x + self.kernel.dx_dt(self.x, self.t)* self.delta_t / 2\n",
    "        t_pi = self.t + self.delta_t / 2\n",
    "        # outer function\n",
    "        self.x += self.kernel.dx_dt(x_pi, t_pi)*self.delta_t \n",
    "        self.t += self.delta_t\n",
    "        \n",
    "class RK4Solver(DEq_Solver):\n",
    "    def __init__(self,kernel):\n",
    "        self.kernel  = kernel\n",
    "    def makeStep(self):\n",
    "        # implement the method for performing a step according to the fourth-order Runge-Kutta algorithm\n",
    "        # You have access to\n",
    "        # self.t: current time\n",
    "        # self.delta_t: the timestep\n",
    "        # self.x: state of the system at time t\n",
    "        # self.kernel.dx_dt(x, t): the derivative, dx/dt, at time t\n",
    "        # input: none\n",
    "        # output: none\n",
    "        # the routine should update x and t\n",
    "        # YOUR CODE HERE\n",
    "        x1 = self.x\n",
    "        t1 = self.t\n",
    "        x2 = self.x + self.kernel.dx_dt(x1, t1)*self.delta_t /2\n",
    "        t2 = self.t + self.delta_t /2\n",
    "        x3 = self.x + self.kernel.dx_dt(x2, t2)*self.delta_t/2\n",
    "        t3 = self.t + self.delta_t /2\n",
    "        x4 = self.x + self.kernel.dx_dt(x3, t3)*self.delta_t\n",
    "        t4 = self.t + self.delta_t\n",
    "        \n",
    "        self.x += self.delta_t / 6 * (self.kernel.dx_dt(x1,t1)\n",
    "                                      + 2*self.kernel.dx_dt(x2, t2) \n",
    "                                      + 2*self.kernel.dx_dt(x3, t3)\n",
    "                                      + self.kernel.dx_dt(x4, t4))\n",
    "        self.t += self.delta_t"
   ]
  },
  {
   "cell_type": "code",
   "execution_count": 22,
   "id": "afd82376",
   "metadata": {},
   "outputs": [],
   "source": [
    "class testKernel:\n",
    "    def dx_dt(x,t):\n",
    "        return 2.0*t+x\n",
    "\n",
    "solver=RK2Solver(testKernel)\n",
    "x0=np.array([0.0])\n",
    "solver.initialise(x0,0,1,0.1)\n",
    "for i in range(5):\n",
    "    solver.makeStep()\n",
    "assert np.isclose(solver.x[0],0.2948935)"
   ]
  },
  {
   "cell_type": "code",
   "execution_count": 23,
   "id": "0fb9756c",
   "metadata": {},
   "outputs": [],
   "source": [
    "class testKernel:\n",
    "    def dx_dt(x,t):\n",
    "        return 2.0*t+x[1]-3.0*x[0]\n",
    "\n",
    "solver=RK4Solver(testKernel)\n",
    "x0=np.array([1.0,0.2])\n",
    "solver.initialise(x0,0,1,0.1)\n",
    "for i in range(5):\n",
    "    solver.makeStep()\n",
    "assert np.isclose(solver.x,np.array([0.29898195, -0.50101805])).all()"
   ]
  },
  {
   "cell_type": "code",
   "execution_count": null,
   "id": "1e404d97",
   "metadata": {},
   "outputs": [],
   "source": []
  }
 ],
 "metadata": {
  "kernelspec": {
   "display_name": "Python 3 (ipykernel)",
   "language": "python",
   "name": "python3"
  },
  "language_info": {
   "codemirror_mode": {
    "name": "ipython",
    "version": 3
   },
   "file_extension": ".py",
   "mimetype": "text/x-python",
   "name": "python",
   "nbconvert_exporter": "python",
   "pygments_lexer": "ipython3",
   "version": "3.10.13"
  }
 },
 "nbformat": 4,
 "nbformat_minor": 5
}
